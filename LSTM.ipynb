{
 "cells": [
  {
   "cell_type": "markdown",
   "metadata": {},
   "source": [
    "index0,1,2分别代表训练集，验证集，测试集的对应到打乱之前的index（iterate_minibatches_listinputs0函数传入的参数）\n",
    "\n",
    "HiddenState....是一个列表，列表中的对应位置的向量和index相对应，是该输入的隐藏层vector\n",
    "```Python\n",
    "len(HiddenStateTrain)=95\n",
    "len(HiddenStateTrain[0])=101\n",
    "len(HiddenStateTrain[0][0])=50\n",
    "len(index0)=9668\n",
    "```\n",
    "所以应给是每个HiddenStateTrain下的每个HiddenStateTrain[0]是平级的"
   ]
  },
  {
   "cell_type": "markdown",
   "metadata": {},
   "source": []
  }
 ],
 "metadata": {
  "kernelspec": {
   "display_name": "Python 2",
   "language": "python",
   "name": "python2"
  },
  "language_info": {
   "codemirror_mode": {
    "name": "ipython",
    "version": 2
   },
   "file_extension": ".py",
   "mimetype": "text/x-python",
   "name": "python",
   "nbconvert_exporter": "python",
   "pygments_lexer": "ipython2",
   "version": "2.7.13"
  }
 },
 "nbformat": 4,
 "nbformat_minor": 2
}
